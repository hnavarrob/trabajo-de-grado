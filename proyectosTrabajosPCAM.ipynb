{
  "nbformat": 4,
  "nbformat_minor": 0,
  "metadata": {
    "colab": {
      "provenance": []
    },
    "kernelspec": {
      "name": "python3",
      "display_name": "Python 3"
    },
    "language_info": {
      "name": "python"
    }
  },
  "cells": [
    {
      "cell_type": "markdown",
      "source": [
        "# **Extracción de Información de los Proyectos de Trabajo de Grado del PCAM**"
      ],
      "metadata": {
        "id": "MfpF_ouwo6CT"
      }
    },
    {
      "cell_type": "markdown",
      "source": [
        "En este documento se describe el proceso de extracción de información de los  proyectos de trabajo de grado del Programa Curricular de Artes Musicales (PCAM) de la Academia Superior de Artes de Bogotá (ASAB), perteneciente a la Universidad Distrital Francisco José de Caldas.\n",
        "\n",
        "La extracción consistirá en obtener datos clave como el nombre del estudiante, el código del proyecto, el título del trabajo, la pregunta problema planteada y la mención de la línea de investigación. Estos datos serán almacenados en una base de datos para su posterior análisis y utilización en el ámbito académico.\n",
        "\n",
        "El objetivo es aprovechar las técnicas de Procesamiento de Lenguaje Natural (NLP) para automatizar la extracción de información y facilitar el estudio y la comprensión de los proyectos de trabajo de grado en la ASAB."
      ],
      "metadata": {
        "id": "dHgvZqCNpIUg"
      }
    },
    {
      "cell_type": "markdown",
      "source": [
        "### **Primer Parte: Configuración de las Herramientas a usar y Conexión a las carpetas de Drive**"
      ],
      "metadata": {
        "id": "n-lED8wDsC0z"
      }
    },
    {
      "cell_type": "code",
      "execution_count": null,
      "metadata": {
        "id": "K43jzEpKoUC6"
      },
      "outputs": [],
      "source": [
        "# Importar las librerias o dependencias,\n",
        "from google.colab import drive\n",
        "import os\n",
        "from openpyxl import Workbook"
      ]
    },
    {
      "cell_type": "code",
      "source": [
        "# Descargar e instalar el modelo spaCy en español\n",
        "!python -m spacy download es_core_news_sm\n",
        "\n",
        "# Instalar la biblioteca python-docx\n",
        "!pip install python-docx\n",
        "\n",
        "# Importar la biblioteca spacy\n",
        "import spacy\n",
        "\n",
        "# Importar la biblioteca PyMuPDF para .pdf\n",
        "!pip install PyMuPDF"
      ],
      "metadata": {
        "id": "TbckpKSuvuTk"
      },
      "execution_count": null,
      "outputs": []
    },
    {
      "cell_type": "code",
      "source": [
        "# Montar la unidad de Google Drive\n",
        "drive.mount('/content/drive')\n",
        "\n",
        "# Ruta de la carpeta raíz\n",
        "carpeta_raiz = '/content/drive/MyDrive/Asab/TrabajoDeGradoHNavarro'\n",
        "\n",
        "# Crear una nueva carpeta\n",
        "carpeta_nueva = 'ResultadosCuatro'\n",
        "os.makedirs(os.path.join(carpeta_raiz, carpeta_nueva))\n",
        "\n",
        "# Crear un archivo de Excel\n",
        "ruta_excel = os.path.join(carpeta_raiz, carpeta_nueva, 'resultados.xlsx')\n",
        "wb = Workbook()\n",
        "ws = wb.active\n",
        "\n",
        "# Agregar encabezados\n",
        "ws['A1'] = 'id'\n",
        "ws['B1'] = 'nombre'\n",
        "ws['C1'] = 'código'\n",
        "ws['D1'] = 'titulo'\n",
        "ws['E1'] = 'pregunta_problema'\n",
        "ws['F1'] = 'linea_investigacion'\n",
        "ws['G1'] = 'fecha'\n",
        "\n",
        "\n",
        "# Guardar el archivo de Excel\n",
        "wb.save(ruta_excel)\n",
        "\n",
        "# Imprimir un mensaje de confirmación\n",
        "print(f\"Se ha creado la carpeta '{carpeta_nueva}' y el archivo de Excel '{ruta_excel}'\")"
      ],
      "metadata": {
        "id": "v0ujkdjio5rf"
      },
      "execution_count": null,
      "outputs": []
    },
    {
      "cell_type": "markdown",
      "source": [
        "### **Segunda Parte: Extracción del Titulo, Nombre, Código del Estudiante, Línea de Facultad, Línea de Proyecto, Pregunta Problema, Parrafo de Línea**"
      ],
      "metadata": {
        "id": "xBunXIEHuzdc"
      }
    },
    {
      "cell_type": "code",
      "source": [
        "import os\n",
        "import pandas as pd\n",
        "from docx import Document\n",
        "import spacy\n",
        "from spacy.matcher import Matcher\n",
        "from IPython.display import display, HTML\n",
        "import unicodedata\n",
        "import re\n",
        "\n",
        "# Crear una lista para almacenar los datos de cada documento\n",
        "data = []\n",
        "\n",
        "# Cargar el modelo de spaCy\n",
        "nlp = spacy.load('es_core_news_sm')\n",
        "\n",
        "# Crear un objeto Matcher\n",
        "matcher = Matcher(nlp.vocab)\n",
        "\n",
        "# Patrones a buscar\n",
        "patron_linea_investigacion = [{\"LOWER\": \"línea\"}, {\"LOWER\": \"de\"}, {\"LOWER\": \"investigación\"}]\n",
        "patron_lineas_investigacion = [{\"LOWER\": \"líneas\"}, {\"LOWER\": \"de\"}, {\"LOWER\": \"investigación\"}]\n",
        "patron_linea_investigacion_sin_tilde = [{\"LOWER\": \"linea\"}, {\"LOWER\": \"de\"}, {\"LOWER\": \"investigacion\"}]\n",
        "patron_lineas_investigacion_sin_tilde = [{\"LOWER\": \"lineas\"}, {\"LOWER\": \"de\"}, {\"LOWER\": \"investigacion\"}]\n",
        "\n",
        "# Añadir los patrones al Matcher\n",
        "matcher.add(\"LineaInvestigacion\", [patron_linea_investigacion, patron_lineas_investigacion, patron_linea_investigacion_sin_tilde, patron_lineas_investigacion_sin_tilde])\n",
        "\n",
        "# Definir la ruta de la carpeta raíz\n",
        "ruta_carpeta = '/content/drive/MyDrive/Asab/TrabajoDeGradoHNavarro/PTGparaH/'\n",
        "\n",
        "# Iterar sobre cada subcarpeta en la carpeta raíz\n",
        "for subcarpeta in os.listdir(ruta_carpeta):\n",
        "    # Crear la ruta completa de la subcarpeta\n",
        "    ruta_subcarpeta = os.path.join(ruta_carpeta, subcarpeta)\n",
        "\n",
        "    # Verificar si la subcarpeta es realmente una carpeta\n",
        "    if os.path.isdir(ruta_subcarpeta):\n",
        "        # Iterar sobre cada archivo en la subcarpeta\n",
        "        for archivo in os.listdir(ruta_subcarpeta):\n",
        "            # Verificar si el archivo es un documento .docx\n",
        "            if archivo.endswith(\".docx\"):\n",
        "                # Crear la ruta completa del documento\n",
        "                ruta_documento = os.path.join(ruta_subcarpeta, archivo)\n",
        "\n",
        "                # Leer el texto del documento\n",
        "                try:\n",
        "                    documento = Document(ruta_documento)\n",
        "                    texto_docx = \" \".join([p.text for p in documento.paragraphs])\n",
        "                except Exception as e:\n",
        "                    print(f\"No se pudo leer el archivo {archivo}. Error: {e}\")\n",
        "                    continue\n",
        "\n",
        "                # Convertir el texto a minúsculas y quitar tildes\n",
        "                texto_docx = unicodedata.normalize('NFKD', texto_docx.lower()).encode('ASCII', 'ignore').decode('utf-8')\n",
        "\n",
        "                # Procesar el texto con spaCy\n",
        "                doc = nlp(texto_docx)\n",
        "\n",
        "                # Encontrar coincidencias con los patrones de línea de investigación\n",
        "                matches_linea_investigacion = matcher(doc)\n",
        "\n",
        "                # Asignar la línea de investigación si se encontró\n",
        "                if matches_linea_investigacion:\n",
        "                    linea_investigacion = \" \"\n",
        "                    for match_id, start, end in matches_linea_investigacion:\n",
        "                        span = doc[start:end]\n",
        "                        linea_investigacion += span.sent.text + \"\\n\"\n",
        "                else:\n",
        "                    linea_investigacion = \" \"\n",
        "\n",
        "                # Reemplazar los caracteres de nueva línea en la línea de investigación\n",
        "                linea_investigacion = linea_investigacion.replace('\\n', ' ')\n",
        "\n",
        "                # Buscar las coincidencias directamente en el documento para la pregunta problema\n",
        "                matches_pregunta_problema = [sent for sent in doc.sents if \"pregunta problema\" in sent.text.lower() or \"preguntas problema\" in sent.text.lower()]\n",
        "\n",
        "                # Asignar la pregunta problema si se encontró\n",
        "                if matches_pregunta_problema:\n",
        "                    pregunta_problema = \"\"\n",
        "                    for match in matches_pregunta_problema:\n",
        "                        pregunta_problema += match.text + \"\\n\"\n",
        "                else:\n",
        "                    pregunta_problema = \" \"\n",
        "\n",
        "                # Eliminar \"PREGUNTA PROBLEMA\" del inicio de la pregunta problema\n",
        "                pregunta_problema = pregunta_problema.split(\"PREGUNTA PROBLEMA\", 1)[-1].split(\"Pregunta Problema\", 1)[-1].strip()\n",
        "\n",
        "                # Leer solo las primeras dos páginas del documento\n",
        "                primeros_tres_parrafos = []\n",
        "\n",
        "                for i, paragraph in enumerate(documento.paragraphs):\n",
        "                    if i < 20:  # 20 párrafos aproximadamente, considerando que cada página tiene alrededor de 10 párrafos\n",
        "                        texto = paragraph.text.strip()\n",
        "                        if \"UNIVERSIDAD DISTRITAL\" not in texto and \"FACULTAD DE ARTES ASAB\" not in texto and \"PROYECTO CURRICULAR\" not in texto and \"ÉNFASIS\" not in texto:\n",
        "                            primeros_tres_parrafos.append(texto)\n",
        "\n",
        "                # Asignar el título y el nombre del estudiante según la longitud de palabras en el párrafo\n",
        "                titulo = \"\"\n",
        "                nombre_estudiante = \"\"\n",
        "                codigo_estudiante = \"\"\n",
        "                anio = \"\"\n",
        "                for parrafo in primeros_tres_parrafos:\n",
        "                    palabras = parrafo.split()\n",
        "                    if len(palabras) > 4:  # Si el párrafo tiene más de 4 palabras, se considera el título\n",
        "                        titulo = parrafo\n",
        "                    elif re.search(r\"([A-Za-z]+\\s[A-Za-z]+\\s[A-Za-z]+\\s?[A-Za-z]+?)\", parrafo):  # Patrón para identificar nombres en mayúsculas y minúsculas con máximo 4 palabras\n",
        "                        nombre_estudiante = parrafo\n",
        "\n",
        "                    # Buscar el código del estudiante en el párrafo\n",
        "                    codigo_pattern = r\"\\d{11}\"  # Patrón para encontrar un número de 11 dígitos\n",
        "                    codigos_encontrados = re.findall(codigo_pattern, parrafo)\n",
        "                    if codigos_encontrados:\n",
        "                        codigo_estudiante = codigos_encontrados[0]\n",
        "\n",
        "                    # Buscar el año en el párrafo\n",
        "                    anio_pattern = r\"\\b(20\\d{2})\\b\"  # Patrón para encontrar un número de 4 dígitos que comienza con \"20\"\n",
        "                    anios_encontrados = re.findall(anio_pattern, parrafo)\n",
        "                    if anios_encontrados:\n",
        "                        anio = anios_encontrados[0]\n",
        "\n",
        "                # Buscar las líneas de facultad y proyecto curricular\n",
        "                lineas_facultad = [\"arte y sociedad\", \"estetica y teorias\", \"arte y pedagogia\", \"arte y culturas\"]\n",
        "                lineas_proyecto = [\"percepcion, experiencia\", \"musica y contexto\", \"pedagogia y didactica\", \"agentes culturales\", \"musica, ciencia\", \"pedagogia y didacticas\", \"creacion musical\",\"analisis para la\",\"estudios del campo\"]\n",
        "\n",
        "                linea_facultad_encontrada = \"\"\n",
        "                linea_proyecto_encontrada = \"\"\n",
        "\n",
        "                for linea_facultad in lineas_facultad:\n",
        "                    if linea_facultad in texto_docx.lower():\n",
        "                        linea_facultad_encontrada = linea_facultad\n",
        "                        break\n",
        "\n",
        "                for linea_proyecto in lineas_proyecto:\n",
        "                    if linea_proyecto in texto_docx.lower():\n",
        "                        linea_proyecto_encontrada = linea_proyecto\n",
        "                        break\n",
        "\n",
        "                # Agregar los datos del documento actual a la lista\n",
        "                data.append({\"documento\": archivo, \"código del estudiante\": codigo_estudiante, \"nombre del estudiante\": nombre_estudiante, \"título\": titulo, \"año\": anio, \"línea de facultad\": linea_facultad_encontrada, \"línea de proyecto\": linea_proyecto_encontrada, \"línea de investigación\": linea_investigacion, \"pregunta problema\": pregunta_problema})\n",
        "\n",
        "# Crear un DataFrame con los datos\n",
        "df = pd.DataFrame(data)\n",
        "\n",
        "display(HTML(df.to_html()))"
      ],
      "metadata": {
        "id": "gRG4FG07CqHZ"
      },
      "execution_count": null,
      "outputs": []
    },
    {
      "cell_type": "markdown",
      "source": [
        "## **Tercera Parte: Almacenar el Data Frame en el Documento de Excel**"
      ],
      "metadata": {
        "id": "_k2J1nMfQUb6"
      }
    },
    {
      "cell_type": "code",
      "source": [
        "# Definir la carpeta raíz\n",
        "carpeta_raiz = '/content/drive/MyDrive/Asab/TrabajoDeGradoHNavarro'\n",
        "\n",
        "# Definir la ruta del archivo de Excel\n",
        "ruta_excel = os.path.join(carpeta_raiz, 'preguntas.xlsx')\n",
        "\n",
        "# Guardar el DataFrame en un archivo de Excel\n",
        "df.to_excel(ruta_excel, index=False)\n",
        "\n",
        "print(f\"Los resultados se han guardado con éxito en el archivo de Excel en {ruta_excel}\")\n"
      ],
      "metadata": {
        "id": "ZK4iLcu8L-9v"
      },
      "execution_count": null,
      "outputs": []
    }
  ]
}