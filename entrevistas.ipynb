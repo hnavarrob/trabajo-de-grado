{
  "cells": [
    {
      "cell_type": "markdown",
      "source": [
        "# **Transcipción de entrevistas implementado Whisper**"
      ],
      "metadata": {
        "id": "jVjCP8segQbU"
      }
    },
    {
      "cell_type": "markdown",
      "source": [
        "Para esta sección, se utiliza Whisper como herramienta principal para la extracción de texto de las entrevistas realizadas a los docentes involucrados en las líneas de investigación. Whisper, al emplear tecnologías de reconocimiento de voz avanzadas, se destaca como una valiosa herramienta de Procesamiento de Lenguaje Natural (NLP). Esta capacidad de NLP de Whisper permite obtener transcripciones precisas y detalladas que minimizan errores y facilitan la interpretación de los datos. Su eficiente procesamiento de grandes volúmenes de audio ha agilizado mi trabajo, permitiéndome avanzar en el análisis de resultados de forma efectiva. En comparación con métodos tradicionales de transcripción, Whisper sobresale por su precisión y velocidad, mejorando significativamente la calidad y confiabilidad de mis datos cualitativos. Esta herramienta de NLP ha demostrado ser invaluable en mi proceso de investigación, proporcionando resultados más precisos, rápidos y confiables que han fortalecido mi comprensión de las temáticas abordadas en las entrevistas con los docentes\n",
        "\n",
        "\n",
        "Para más información de Whisper se recomienta visitar su sitio web en el siguiente enlace https://openai.com/research/whisper"
      ],
      "metadata": {
        "id": "LZJkh15ngdyi"
      }
    },
    {
      "cell_type": "markdown",
      "metadata": {
        "id": "pTDVydJnQD3o"
      },
      "source": [
        "## **Etapas**\n"
      ]
    },
    {
      "cell_type": "code",
      "execution_count": null,
      "metadata": {
        "id": "dVZsd2e0RIWN"
      },
      "outputs": [],
      "source": [
        "# Instala la biblioteca openai-whisper si no está ya instalada\n",
        "!pip install openai-whisper\n",
        "\n",
        "# Importamos las librerías necesarias\n",
        "import whisper\n",
        "import pandas as pd\n",
        "\n",
        "# Cargamos el modelo Whisper\n",
        "model = whisper.load_model(\"medium\")\n",
        "\n",
        "# Ruta del archivo de audio\n",
        "ruta_audio = \"/content/drive/MyDrive/Asab/TrabajoDeGradoHNavarro/Documentos/Entrevistas/Audios/Jorge-Peñuela-2.mp3\"\n",
        "\n",
        "# Transcripción del audio\n",
        "resultado = model.transcribe(ruta_audio)\n",
        "\n",
        "# Mostramos el resultado de la transcripción\n",
        "print(resultado)\n",
        "\n",
        "# Convertimos el resultado a un DataFrame de Pandas\n",
        "df_resultado = pd.DataFrame(resultado)\n",
        "\n",
        "# Mostramos el DataFrame\n",
        "print(df_resultado.to_string())\n",
        "\n",
        "# Guarda el resultado de la transcripción en la variable \"texto\"\n",
        "texto = resultado[\"text\"]\n",
        "\n",
        "# Especifica la ruta y el nombre del archivo donde deseas guardar el texto\n",
        "ruta_archivo = \"/content/drive/MyDrive/Asab/TrabajoDeGradoHNavarro/Documentos/Entrevistas/Audios/\"\n",
        "\n",
        "# Guarda el texto en el archivo\n",
        "guardar_texto(ruta_archivo, texto)"
      ]
    },
    {
      "cell_type": "markdown",
      "metadata": {
        "id": "y41uJVCjChBJ"
      },
      "source": [
        "## **Segmentos de la entrevista**"
      ]
    },
    {
      "cell_type": "markdown",
      "source": [
        " identificadores de cada segmento, el tiempo de inicio y fin, y el texto transcrito"
      ],
      "metadata": {
        "id": "zHN3XRV7okiL"
      }
    },
    {
      "cell_type": "code",
      "execution_count": null,
      "metadata": {
        "id": "MuDzoRIBCk2r"
      },
      "outputs": [],
      "source": [
        "pd.DataFrame(resultado['segments'])[['id', 'start','end','text']]"
      ]
    }
  ],
  "metadata": {
    "colab": {
      "provenance": []
    },
    "kernelspec": {
      "display_name": "Python 3",
      "name": "python3"
    },
    "language_info": {
      "name": "python"
    }
  },
  "nbformat": 4,
  "nbformat_minor": 0
}